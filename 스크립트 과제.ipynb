{
 "cells": [
  {
   "cell_type": "markdown",
   "id": "6b3b458c",
   "metadata": {},
   "source": [
    "# [1번문제]\n",
    "1).다음 문제를 읽고 알맞은 코드를 제시하시오"
   ]
  },
  {
   "cell_type": "code",
   "execution_count": 38,
   "id": "61c6e60e",
   "metadata": {
    "pycharm": {
     "name": "#%%\n"
    }
   },
   "outputs": [
    {
     "name": "stdout",
     "output_type": "stream",
     "text": [
      "pig ham\n",
      "cat dog\n",
      "ham bird\n",
      "dog pig\n"
     ]
    }
   ],
   "source": [
    "with open('s.txt') as f:\n",
    "     print(f.read())"
   ]
  },
  {
   "cell_type": "markdown",
   "id": "68b510fd",
   "metadata": {},
   "source": [
    "**Source**  \n",
    "파일을 만들어 그 안에 내용들을 저장한 후 코드에서 open을 통해 파일을 열었다. 후에 read를 통해 파일 내에 있는 내용들을 읽고 출력하도록 하였다."
   ]
  },
  {
   "cell_type": "markdown",
   "id": "17e80b20",
   "metadata": {},
   "source": [
    "2) 파일 s.txt을 읽어서 각 라인에 있는 첫 번째 단어(문자열) 자체들을 기준으로 라인별 정렬후 파일 s1.txt에 그 결과를 기록하는 코드를 작성하시오. 즉, 프로그램 수행 후 s1.txt에 있는 파일 내용은 다음과 같다.\n",
    "\n",
    "cat dog  \n",
    "dog pig  \n",
    "ham bird  \n",
    "pig ham"
   ]
  },
  {
   "cell_type": "code",
   "execution_count": 4,
   "id": "17fbc2b1",
   "metadata": {},
   "outputs": [
    {
     "name": "stdout",
     "output_type": "stream",
     "text": [
      "cat dog\n",
      "dog pig\n",
      "ham bird\n",
      "pig ham\n"
     ]
    }
   ],
   "source": [
    "f = open('s.txt')\n",
    "k = []\n",
    "\n",
    "for line in f:\n",
    "    k += line\n",
    "    \n",
    "s = ''.join(k)\n",
    "k = s.split('\\n')\n",
    "k.sort()\n",
    "f.close()\n",
    "\n",
    "f = open('s1.txt', 'w')\n",
    "f.write('\\n'.join(k))\n",
    "f.close()\n",
    "\n",
    "f = open('s1.txt')\n",
    "print (f.read())\n",
    "f.close()"
   ]
  },
  {
   "cell_type": "markdown",
   "id": "848757eb",
   "metadata": {},
   "source": [
    "**Source**  \n",
    "파일 안에 있는 내용들을 리스트에 저장시키고 join함수를 사용하여 공백을 기준으로 리스트를 문자열화 하였다. 이를 줄바꿈을 기준으로 split함수를 통해 리스트의 요소로 저장시키고 sort를 하여 정렬시켰다. 이를 s1.txt파일에 쓰기 기능을 통하여 줄바꿈을 기준으로 문자열화 시켜 읽어내도록하였다."
   ]
  },
  {
   "cell_type": "markdown",
   "id": "d1891e3e",
   "metadata": {},
   "source": [
    "3) 파일 s.txt을 읽어서 각 라인에 있는 두 번째 단어(문자열) 자체들을 기준으로 라인별 정렬후 파일 s2.txt에 그 결과를 기록하는 코드를 작성하시오. 즉, 프로그램 수행 후 s2.txt에 있는 파일 내용은 다음과 같다.\n",
    "\n",
    "ham bird  \n",
    "cat dog  \n",
    "pig ham  \n",
    "dog pig"
   ]
  },
  {
   "cell_type": "code",
   "execution_count": 5,
   "id": "f677edfa",
   "metadata": {},
   "outputs": [
    {
     "name": "stdout",
     "output_type": "stream",
     "text": [
      "ham bird\n",
      "cat dog\n",
      "pig ham\n",
      "dog pig\n"
     ]
    }
   ],
   "source": [
    "def get_key_value(a):\n",
    "  s = a.find(' ')\n",
    "  return a[s + 1]\n",
    "\n",
    "f = open('s.txt')\n",
    "k = []\n",
    "\n",
    "for line in f:\n",
    "    k += line\n",
    "    \n",
    "s = ''.join(k)\n",
    "k = s.split('\\n')\n",
    "k.sort(key = get_key_value)\n",
    "f.close()\n",
    "\n",
    "f = open('s2.txt', 'w')\n",
    "f.write('\\n'.join(k))\n",
    "f.close()\n",
    "\n",
    "f = open('s2.txt')\n",
    "print (f.read())\n",
    "f.close()"
   ]
  },
  {
   "cell_type": "markdown",
   "id": "012cc712",
   "metadata": {},
   "source": [
    "**Source**  \n",
    "get_ket_value라는 함수를 만들어 두번째 단어의 첫글자를 반환하도록 하였다. 이 반환한 값으로 정렬을 하므로써 s2.txt파일에 쓰기 및 읽어낼 수 있도록 하였다"
   ]
  },
  {
   "cell_type": "markdown",
   "id": "aae94ae3",
   "metadata": {},
   "source": [
    "4) 파일 s.txt을 읽어서 각 라인들에 있는 모든 단어들을 순차적으로 다시 나열하되 각 라인에 세 개의 단어들이 오도록 하여 s3.txt에 기록하는 코드를 작성하시오. 즉, 프로그램 수행 후 s3.txt에 있는 파일 내용은 다음과 같다."
   ]
  },
  {
   "cell_type": "code",
   "execution_count": 6,
   "id": "205b5dd5",
   "metadata": {},
   "outputs": [
    {
     "name": "stdout",
     "output_type": "stream",
     "text": [
      "pig ham cat\n",
      "dog ham bird\n",
      "dog pig \n"
     ]
    }
   ],
   "source": [
    "f = open('s.txt')\n",
    "k = []\n",
    "\n",
    "for line in f:\n",
    "  k += line\n",
    "\n",
    "k = ''.join(k).split('\\n')\n",
    "k = ' '.join(k).split(' ')\n",
    "for i in range(len(k)):\n",
    "  if(i%3 == 2):\n",
    "    k[i] += '\\n'\n",
    "  else:\n",
    "    k[i] += ' '\n",
    "f.close()\n",
    "\n",
    "f = open('s3.txt', 'w')\n",
    "f.write(''.join(k))\n",
    "f.close()\n",
    "\n",
    "f = open('s3.txt')\n",
    "print(f.read())\n",
    "f.close()"
   ]
  },
  {
   "cell_type": "markdown",
   "id": "6c3f6de1",
   "metadata": {},
   "source": [
    "**Source**  \n",
    "사전에 txt파일 안에 있는 내용들을 추가하여 문자열로 변환 후 일자로 나열한 후 i%3==0을 통하여 3개의 단어가 왔을 시 줄바꿈문자를 추가하여 줄을 나누도록 하였다.\n"
   ]
  },
  {
   "cell_type": "markdown",
   "id": "5f03bec0",
   "metadata": {},
   "source": [
    "다음과 같은 조건들을 참고하여 회원 가입 및 로그인 프로그램을 작성하시오.\n",
    "1) 프로그램 시작 후 다음과 같은 메시지가 출력되어 1, 2, 3 중 하나의 값을 입력 받도록 한다.\n",
    "Welcome to Our Service\n",
    "\n",
    "Sign Up\n",
    "Sign In\n",
    "Quit\n",
    "2) 1을 선택하면 ID, Password, Name, School의 4가지 정보를 입력받아 파일에 저장하는 프로그램을 작성한다.\n",
    "\n",
    "2-1) 입력된 내용은 access.txt 라는 이름의 텍스트 파일 내에 저장된다.\n",
    "2-2) access.txt 파일의 각 라인에는 가입된 회원 각각의 정보가 \"[id]: [password], [name], [school]\" 형태로 저장된다.\n",
    "2-3) 즉, 가입 회원이 10명이면 access.txt 파일 내에 라인 수도 정확히 10개이다.\n",
    "2-4) 암호화 방식은 sha 모듈을 활용한다. sha 모듈 활용 방법은 본 문제의 마지막에 제시된 sha 활용 예를 참고한다.\n",
    "즉, access.txt 파일 내에 password 정보는 암호화 되어 저장되어야 한다.\n",
    "2-5) 회원 정보를 입력 받을 때 id를 입력 받은 직후 access.txt를 확인하여 이미 존재하는 id가 입력되었다면 다음 메시지를 출력하고 id 정보를 다시 입력받는다.\n",
    "Sorry, the entered ID is already used.\n",
    "3) 2를 선택하면 ID, Password의 2가지 정보를 입력받는 프로그램을 작성한다.\n",
    "\n",
    "3-1) 입력된 ID 정보가 access.txt에 존재하지 않으면 다음과 같은 메시지를 출력하고 다시 입력받는다.\n",
    "Sorry, you are not a registered member.\n",
    "입력된 ID가 올바르게 존재하지만 Password 정보가 access.txt 파일에 있는 정보와 불일치하면 다음과 같은 메시지를 출력하고 Password를 다시 입력받는다.\n",
    "Sorry, the entered password is not correct.\n",
    "이 때에도 사용자가 입력한 Password 정보와 함께 sha 모듈이 활용되어야 한다.\n",
    "입력된 ID와 Password가 모두 올바르면 다음과 같은 메시지를 출력한다.\n",
    "Hello [name]!\n",
    "위 [name]에는 access.txt에 기록되어 있는 name 정보를 출력한다.\n",
    "4) 3을 선택하면 프로그램이 끝난다.\n",
    "\n",
    "[참고] sha 모듈 활용 예\n",
    "import sha\n",
    "password_plain = \"12345678\"\n",
    "password_encrypted = sha.new(password_plain).hexdigest()\n",
    "print password_encrypted\n",
    "//import hashlib\n",
    "//hasher = hashlib.sha1()\n",
    "//password_plain = 'ripemd160' //password_encrypted = hashlib.new(password_plain)\n",
    "//password_encrypted.hexdigest()\n",
    "//print(password_encrypted)"
   ]
  },
  {
   "cell_type": "code",
   "execution_count": 55,
   "id": "13acf462",
   "metadata": {},
   "outputs": [
    {
     "name": "stdout",
     "output_type": "stream",
     "text": [
      "Welcome to Our Service\n",
      "1. Sign Up\n",
      "2. Sign In\n",
      "3. Quit\n",
      "input number(1,2,3): 2\n",
      "Enter Id: ad\n",
      "Enter password: ad\n",
      "Hello[ad]\n",
      "Welcome to Our Service\n",
      "1. Sign Up\n",
      "2. Sign In\n",
      "3. Quit\n"
     ]
    },
    {
     "ename": "KeyboardInterrupt",
     "evalue": "Interrupted by user",
     "output_type": "error",
     "traceback": [
      "\u001b[1;31m---------------------------------------------------------------------------\u001b[0m",
      "\u001b[1;31mKeyboardInterrupt\u001b[0m                         Traceback (most recent call last)",
      "\u001b[1;32m<ipython-input-55-13ed0b4ea9d6>\u001b[0m in \u001b[0;36m<module>\u001b[1;34m\u001b[0m\n\u001b[0;32m      7\u001b[0m   \u001b[0mprint\u001b[0m\u001b[1;33m(\u001b[0m\u001b[1;34m\"3. Quit\"\u001b[0m\u001b[1;33m)\u001b[0m\u001b[1;33m\u001b[0m\u001b[1;33m\u001b[0m\u001b[0m\n\u001b[0;32m      8\u001b[0m \u001b[1;33m\u001b[0m\u001b[0m\n\u001b[1;32m----> 9\u001b[1;33m   \u001b[0mselect\u001b[0m \u001b[1;33m=\u001b[0m \u001b[0mint\u001b[0m\u001b[1;33m(\u001b[0m\u001b[0minput\u001b[0m\u001b[1;33m(\u001b[0m\u001b[1;34m\"input number(1,2,3): \"\u001b[0m\u001b[1;33m)\u001b[0m\u001b[1;33m)\u001b[0m\u001b[1;33m\u001b[0m\u001b[1;33m\u001b[0m\u001b[0m\n\u001b[0m\u001b[0;32m     10\u001b[0m   \u001b[1;32mif\u001b[0m \u001b[0mselect\u001b[0m \u001b[1;33m==\u001b[0m \u001b[1;36m1\u001b[0m\u001b[1;33m:\u001b[0m\u001b[1;33m\u001b[0m\u001b[1;33m\u001b[0m\u001b[0m\n\u001b[0;32m     11\u001b[0m     \u001b[0mcheck\u001b[0m \u001b[1;33m=\u001b[0m \u001b[1;36m1\u001b[0m\u001b[1;33m\u001b[0m\u001b[1;33m\u001b[0m\u001b[0m\n",
      "\u001b[1;32m~\\anaconda3\\lib\\site-packages\\ipykernel\\kernelbase.py\u001b[0m in \u001b[0;36mraw_input\u001b[1;34m(self, prompt)\u001b[0m\n\u001b[0;32m    858\u001b[0m                 \u001b[1;34m\"raw_input was called, but this frontend does not support input requests.\"\u001b[0m\u001b[1;33m\u001b[0m\u001b[1;33m\u001b[0m\u001b[0m\n\u001b[0;32m    859\u001b[0m             )\n\u001b[1;32m--> 860\u001b[1;33m         return self._input_request(str(prompt),\n\u001b[0m\u001b[0;32m    861\u001b[0m             \u001b[0mself\u001b[0m\u001b[1;33m.\u001b[0m\u001b[0m_parent_ident\u001b[0m\u001b[1;33m,\u001b[0m\u001b[1;33m\u001b[0m\u001b[1;33m\u001b[0m\u001b[0m\n\u001b[0;32m    862\u001b[0m             \u001b[0mself\u001b[0m\u001b[1;33m.\u001b[0m\u001b[0m_parent_header\u001b[0m\u001b[1;33m,\u001b[0m\u001b[1;33m\u001b[0m\u001b[1;33m\u001b[0m\u001b[0m\n",
      "\u001b[1;32m~\\anaconda3\\lib\\site-packages\\ipykernel\\kernelbase.py\u001b[0m in \u001b[0;36m_input_request\u001b[1;34m(self, prompt, ident, parent, password)\u001b[0m\n\u001b[0;32m    902\u001b[0m             \u001b[1;32mexcept\u001b[0m \u001b[0mKeyboardInterrupt\u001b[0m\u001b[1;33m:\u001b[0m\u001b[1;33m\u001b[0m\u001b[1;33m\u001b[0m\u001b[0m\n\u001b[0;32m    903\u001b[0m                 \u001b[1;31m# re-raise KeyboardInterrupt, to truncate traceback\u001b[0m\u001b[1;33m\u001b[0m\u001b[1;33m\u001b[0m\u001b[1;33m\u001b[0m\u001b[0m\n\u001b[1;32m--> 904\u001b[1;33m                 \u001b[1;32mraise\u001b[0m \u001b[0mKeyboardInterrupt\u001b[0m\u001b[1;33m(\u001b[0m\u001b[1;34m\"Interrupted by user\"\u001b[0m\u001b[1;33m)\u001b[0m \u001b[1;32mfrom\u001b[0m \u001b[1;32mNone\u001b[0m\u001b[1;33m\u001b[0m\u001b[1;33m\u001b[0m\u001b[0m\n\u001b[0m\u001b[0;32m    905\u001b[0m             \u001b[1;32mexcept\u001b[0m \u001b[0mException\u001b[0m \u001b[1;32mas\u001b[0m \u001b[0me\u001b[0m\u001b[1;33m:\u001b[0m\u001b[1;33m\u001b[0m\u001b[1;33m\u001b[0m\u001b[0m\n\u001b[0;32m    906\u001b[0m                 \u001b[0mself\u001b[0m\u001b[1;33m.\u001b[0m\u001b[0mlog\u001b[0m\u001b[1;33m.\u001b[0m\u001b[0mwarning\u001b[0m\u001b[1;33m(\u001b[0m\u001b[1;34m\"Invalid Message:\"\u001b[0m\u001b[1;33m,\u001b[0m \u001b[0mexc_info\u001b[0m\u001b[1;33m=\u001b[0m\u001b[1;32mTrue\u001b[0m\u001b[1;33m)\u001b[0m\u001b[1;33m\u001b[0m\u001b[1;33m\u001b[0m\u001b[0m\n",
      "\u001b[1;31mKeyboardInterrupt\u001b[0m: Interrupted by user"
     ]
    }
   ],
   "source": [
    "import hashlib\n",
    "  \n",
    "while 1:\n",
    "  print(\"Welcome to Our Service\");\n",
    "  print(\"1. Sign Up\")\n",
    "  print(\"2. Sign In\")\n",
    "  print(\"3. Quit\")\n",
    "\n",
    "  select = int(input(\"input number(1,2,3): \"))\n",
    "  if select == 1:\n",
    "    check = 1\n",
    "    while check == 1:\n",
    "      f=open('access.txt', 'a')\n",
    "      ids = input(\"input ID: \")\n",
    "      f.close()\n",
    "      f = open('access.txt', 'r')\n",
    "      line = f.readlines()\n",
    "      point = ''.join(line)\n",
    "      for i in point:\n",
    "        point1 = point.find(':')\n",
    "        if ids == point[1:point1-1]:\n",
    "          check = 2\n",
    "      if check == 1:\n",
    "        check = 0\n",
    "      else:\n",
    "        check = 1\n",
    "        print(\"Sorry, the entered ID is already used.\")\n",
    "      f.close()\n",
    "\n",
    "    f = open('access.txt', 'a')\n",
    "    password = input(\"input password: \")\n",
    "    password1 = hashlib.sha1(password.encode())\n",
    "    name = input(\"input name: \")\n",
    "    school = input(\"input school: \")\n",
    "    f.write(\"[\")\n",
    "    f.write(ids)\n",
    "    f.write(\"]:[\")    \n",
    "    f.write(password1.hexdigest())\n",
    "    f.write(\"],[\")\n",
    "    f.write(name)\n",
    "    f.write(\"],[\")\n",
    "    f.write(school)\n",
    "    f.write(\"]\\n\")\n",
    "    f.close()\n",
    "\n",
    "  if select == 2:\n",
    "    check = 1\n",
    "    check1 = 1\n",
    "    while check == 1:\n",
    "      if check1 == 1:\n",
    "        cid = input(\"Enter Id: \")\n",
    "        cpw = input(\"Enter password: \")\n",
    "        cpw1 = hashlib.sha1(cpw.encode())\n",
    "        cpw2 = cpw1.hexdigest()\n",
    "        f = open('access.txt', 'r')\n",
    "        line = f.readlines()\n",
    "        point = ''.join(line)\n",
    "        for i in point:\n",
    "          point1 = point.find(\":\")\n",
    "          point2 = point.find(\",\")\n",
    "\n",
    "      if check1 == 2:\n",
    "        cpw = input(\"Enter password: \")\n",
    "        cpw1 = hashlib.sha1(cpw.encode())\n",
    "        cpw2 = cpw1.hexdigest()\n",
    "        f = open('access.txt', 'r')\n",
    "        line = f.readlines()\n",
    "        point = ''.join(line)\n",
    "        for i in point:\n",
    "          point1 = point.find(\":\")\n",
    "          point2 = point.find(\",\")\n",
    "    \n",
    "      if not cid == point[1:point1-1]:\n",
    "        check = 1\n",
    "      elif cid == point[1:point1-1] and not cpw2 == point[point1+2:point2-1]:\n",
    "        check = 2\n",
    "      elif cid == point[1:point1-1] and cpw2 == point[point1+2:point2-1]:\n",
    "        check = 3\n",
    "\n",
    "      if check == 1:\n",
    "        print(\"Sorry, you are not a registered member.\")\n",
    "      elif check == 2:\n",
    "        check = 1\n",
    "        check1 = 2\n",
    "        print(\"Sorry, the entered password is not correct.\")\n",
    "      elif check == 3:\n",
    "        print(\"Hello[\", end = '')\n",
    "        print(cid, end  = '')\n",
    "        print(\"]\")\n",
    "    f.close()\n",
    "\n",
    "  if select == 3:\n",
    "    print(\"------------------------------Quit----------------------------------\")\n",
    "    break"
   ]
  },
  {
   "cell_type": "markdown",
   "id": "6b3bb0f0",
   "metadata": {},
   "source": [
    "**Source**  \n",
    "select라는 변수를 두어 모드를 선택하도록 하였다. 1을 선택하였을 시 파일 끝에 추가를 할 수 있도록 열어 아이디를 입력한 후 파일을 닫고 읽기모드로 다시 열어 이 아이디가 이미 있는지 없는지를 확인하도록 하였다. 아이디가 같을 시 check를 2로 저장하였다가 조건문을 통해 아이디를 다시 입력받도록 하였고, 다를 시 다음 단계로 넘어갈 수 있도록 하였다. 2번을 선택 시 로그인을 하는 문제였다. hashlib모듈을 활용하여 비밀번호를 암호화하였고, 아이디, 비밀번호가 이미 저장된 것과 같거나, 비밀번호가 틀리거나, 둘 다 틀릴 경우의 3가지 조건을 달아 각각의 수행을 하도록 하였다. 마지막으로 3을 선택했을 시 Quit를 출력하며 종료하도록 하였다. "
   ]
  },
  {
   "cell_type": "markdown",
   "id": "2a993583",
   "metadata": {},
   "source": [
    "# **[3번 문제]**  \n",
    "range() 함수와 유사한 frange() 함수를 다음 조건을 참고하여 만드시오.  \n",
    "- 1) frange()의 인자 구성은 다음과 같이 range와 동일하지만 각 인수들은 음수를 받지 않는다고 가정한다.  \n",
    "> range(stop)  \n",
    "> range(start, stop[, step])  \n",
    "- 2) frange() 함수의 인자에 대한 기본 시작(start) 값은 0.0이고, 기본 단계(step) 값은 0.1이다.  \n",
    "- 3) frange 사용 예  \n",
    "  - 3-1) frange(0.5)  \n",
    "    [0.0, 0.1, 0.2, 0.3, 0.4]  \n",
    "  - 3-2) frange(1.0, 2.0)  \n",
    "    [1.0, 1.1, 1.2, 1.3, 1.4, 1.5, 1.6, 1.7, 1.8, 1.9]  \n",
    "  - frange(2.2, 4.0, 0.5)  \n",
    "    [2.2, 2.7, 3.2, 3.7]\n"
   ]
  },
  {
   "cell_type": "code",
   "execution_count": 56,
   "id": "e1e8e252",
   "metadata": {},
   "outputs": [
    {
     "name": "stdout",
     "output_type": "stream",
     "text": [
      "[0.0, 0.1, 0.2, 0.3, 0.4]\n",
      "[1.0, 1.1, 1.2, 1.3, 1.4, 1.5, 1.6, 1.7, 1.8, 1.9]\n",
      "[2.2, 2.7, 3.2, 3.7]\n"
     ]
    }
   ],
   "source": [
    "def frange(*stop):\n",
    "  if(len(stop)==1):\n",
    "    end = stop[0]\n",
    "    start = 0.0\n",
    "    k = []\n",
    "    while start < end:\n",
    "      k.append(start)\n",
    "      step = 0.1\n",
    "      start = start + step\n",
    "      start = round(start, 2)\n",
    "\n",
    "  if(len(stop)==2):\n",
    "    start=stop[0]\n",
    "    end = stop[1]\n",
    "    k = []\n",
    "    while start < end:\n",
    "      k.append(start)\n",
    "      step= 0.1\n",
    "      start = start + step\n",
    "      start = round(start, 2)\n",
    "\n",
    "  if(len(stop)==3):\n",
    "    start = stop[0]\n",
    "    end = stop[1]\n",
    "    step = stop[2]\n",
    "    k = []\n",
    "    while start < end:\n",
    "      k.append(start)\n",
    "      start = start + step\n",
    "      start = round(start, 2)\n",
    "  return k\n",
    "\n",
    "\n",
    "print(frange(0.5))\n",
    "print(frange(1.0, 2.0))\n",
    "print(frange(2.2, 4.0, 0.5))"
   ]
  },
  {
   "cell_type": "markdown",
   "id": "bd84dc9e",
   "metadata": {},
   "source": [
    "**Source**  \n",
    "가변인수를 받도록 하여 stop의 길이로 인수를 몇개 받았는지 알 수 있도록 하였다. 한개만 받았을 시 마지막 값을 stop의 첫번째 값으로 하여 0.0부터 0.1씩 증가하여 출력하도록 하였고, 2개, 3개일 때는 각 위치에 따라 역할을 지정해주어 연산을 하도록 하였다. "
   ]
  },
  {
   "cell_type": "markdown",
   "id": "84d34a85",
   "metadata": {},
   "source": [
    "# **[4번 문제]**  \n",
    "가변인수를 받는 함수 sum()을 다음과 같은 조건을 참고하여 구현하시오.  \n",
    "- sum() 사용 예\n",
    "  - sum()  \n",
    "    - 0\n",
    "  - sum(1, 2)  \n",
    "    - 3\n",
    "  - sum(1, 2, 3, 4, 5) \n",
    "    - 15\n",
    "  - sum(1, 5, 7, 2, -10)\n",
    "    - 5"
   ]
  },
  {
   "cell_type": "code",
   "execution_count": 57,
   "id": "529e736c",
   "metadata": {},
   "outputs": [
    {
     "name": "stdout",
     "output_type": "stream",
     "text": [
      "0\n",
      "3\n",
      "15\n",
      "5\n"
     ]
    }
   ],
   "source": [
    "def sum(*args):\n",
    "  if(len(args)==0):\n",
    "    return 0 \n",
    "  else:\n",
    "    result = 0 \n",
    "    for i in args:\n",
    "      result = result + int(i)\n",
    "    return result\n",
    "\n",
    "print(sum())\n",
    "print(sum(1,2))\n",
    "print(sum(1,2,3,4,5))\n",
    "print(sum(1,5,7,2,-10))"
   ]
  },
  {
   "cell_type": "markdown",
   "id": "e84b6aa9",
   "metadata": {},
   "source": [
    "**Source**  \n",
    "가변인수를 받아 인자가 하나일 땐 0을 반환하도록 하였고, 0이 아닐 땐 result에 인수의 값을 계속하여 더해주어 결과를 반환하였다."
   ]
  },
  {
   "cell_type": "markdown",
   "id": "bcb871f1",
   "metadata": {},
   "source": [
    "# **[5번 문제]**  \n",
    "여러 단어로 이루어진 문자열을 입력받아 각 단어의 첫글자로 이루어진 단어를 대문자로 출력하는 myinitial() 함수를 다음 조건을 참고하여 작성하시오.  \n",
    "- 1) 다음에 제시되는 함수들을 모두 이용해야 한다.  \n",
    "  - split  \n",
    "  - map  \n",
    "  - join\n",
    "- 2) myinitial() 함수 사용 예  \n",
    "  - myinitial(\"as soon as possible\")  \n",
    "    - ASAP\n"
   ]
  },
  {
   "cell_type": "code",
   "execution_count": 4,
   "id": "3b118a13",
   "metadata": {},
   "outputs": [
    {
     "name": "stdout",
     "output_type": "stream",
     "text": [
      "ASAP\n"
     ]
    }
   ],
   "source": [
    "def usemap(s):\n",
    "  return s[0]\n",
    "\n",
    "def myinitial(s):\n",
    "  s = s.upper()\n",
    "  s = s.split(' ')\n",
    "  s = list(map(usemap, s))\n",
    "  s = ''.join(s)\n",
    "  return s\n",
    "  \n",
    "print(myinitial(\"as soon as possible\"))"
   ]
  },
  {
   "cell_type": "markdown",
   "id": "dae8acee",
   "metadata": {},
   "source": [
    "**Source**  \n",
    "myinitial(s)라는 함수를 만들어 전부 대문자로 만들고 공백을 기준으로 분리하여 리스트에 저장하였다. usemap(s)에서 첫번째 단어를 반환하도록 하여 map함수를 통해 리스트의 요소를 지정된 요소들의 첫번째 단어로 변환하였고 이를 공백을 기준으로 분리하여 문자열로 나타내었다."
   ]
  },
  {
   "cell_type": "markdown",
   "id": "995febb8",
   "metadata": {},
   "source": [
    "# **[6번 문제]**  \n",
    "음이 아닌 정수 n를 입력받으면 n! (factorial)을 계산하는 myfact() 함수를 재귀적 함수로 구현하시오.  \n",
    "- [옵션] 참을 수 있는 정도 만큼의 수행시간을 직접 기다려보면서 n을 늘려보도록 합시다."
   ]
  },
  {
   "cell_type": "code",
   "execution_count": 60,
   "id": "5f098256",
   "metadata": {},
   "outputs": [
    {
     "name": "stdout",
     "output_type": "stream",
     "text": [
      "n의 수를 입력하시오: 3\n",
      "6\n"
     ]
    }
   ],
   "source": [
    "def myfact(n):\n",
    "  if(n==1): return 1\n",
    "  else : return n * myfact(n-1) \n",
    "\n",
    "n = int(input(\"n의 수를 입력하시오: \"))\n",
    "print(myfact(n))"
   ]
  },
  {
   "cell_type": "markdown",
   "id": "8495129e",
   "metadata": {},
   "source": [
    "**Source**  \n",
    "myfact라는 함수를 만들어 n이 1일 땐 1을 반환하고 아닐 땐 재귀함수를 통해 계속해서 곱하도록 하였다. 972의 값을 입력했을 땐 정상적으로 값이 나왔지만 973부턴 최댓값을 넘어서서인지 출력이 되지 않았다."
   ]
  },
  {
   "cell_type": "markdown",
   "id": "58cffee9",
   "metadata": {},
   "source": [
    "# **[7번 문제]**  \n",
    "(서술형) import string 과 from string import * 의 차이점을 설명하시오."
   ]
  },
  {
   "cell_type": "markdown",
   "id": "d107280c",
   "metadata": {},
   "source": [
    "import string을 사용하면 현재의 이름공간에 string이라는 모듈을 그냥 가져온 것이다.  \n",
    "반면 from string import*을 사용하면 해당 모듈에 존재하고 있는 이름을 현재 이름공간으로 불러들인다. 그러므로 모듈 이름없이도 직접 사용이 가능하다."
   ]
  },
  {
   "cell_type": "markdown",
   "id": "f95ad226",
   "metadata": {},
   "source": [
    "# [Incremental Project 문제]\n",
    "이전 Assignment 3의 마지막 문제는 웹 URL로 지정된 웹페이지를 문자열로 가져와 모든 HTML 태그 및 CSS와 Javascript를 제외한 순수 텍스트를 얻어내고 그 안에 존재하는 단어를 추출하여 각 단어들에 대해 출현빈도를 사전형태({'world': 2, 'hello': 1, 'python': 1})로 저장하여 출력하는 것이었다. 이번에는 Assignment 3를 확장하여 다음과 같은 조건을 만족하도록 구현하시오.\n",
    "1) 다음 사이트에서 제시되는 불용어 (Stop words)를 참고하여 이전 숙제에서 구성했던 단어 사전에서 불용어들을 모두 제거하는 코드를 추가하시오.\n",
    "영어 불용어: https://countwordsfree.com/stopwords\n",
    "화면 상단 오른쪽 txt 파일 다운 받아 활용\n",
    "한글 불용어: https://raw.githubusercontent.com/stopwords-iso/stopwords-ko/master/stopwords-ko.txt\n",
    "2) 각 URL로 지정된 웹페이지의 HTML 소스를 파일로 저장하시오.\n",
    "URL이 http://URL 이라면 파일명은 URL.html 이다.\n",
    "예: URL이 http://www.cnn.com 이라면 파일명은 www.cnn.com.html 이다.\n",
    "3) 단어의 출현빈도가 담긴 사전 객체를 위 HTML 소스 파일과 동일한 폴더에 파일로 저장하시오.\n",
    "파일입출력 (E-learning 13주차) 마지막에 학습한 pickle 모듈을 활용하시오.\n",
    "URL이 http://URL 이라면 사전 객체를 담고 있는 파일명은 URL.words_frequency.pickle 이다.\n",
    "예: URL이 http://www.cnn.com 이라면 파일명은 www.cnn.com.words_frequency.pickle 이다.\n",
    "4) 최소 5개 이상의 웹 사이트 각각에 대한 HTML 소스 파일과 단어 출현빈도 파일을 저장하시오.\n",
    "즉, 5개의 웹 사이트에 대해 총 10개의 파일을 동일한 폴더에 생성하시오.\n",
    "[주의] 가능하면 웹사이트에 단어들이 많고 다루는 주제가 서로 다른 웹 사이트들로 선정하는 것 추천\n",
    "5) 위 문제에서 저장한 모든 pickle 파일들을 객체로 다시 로드하여 본인이 저장하여 분석한 사이트들 각각에 대해서 가장 많이 출현한 단어 3개씩를 뽑아 제시하시오.\n",
    "반드시 pickle 모듈로 저장한 5개 이상의 pickle 파일들을 다시 5개 이상의 사전 객체로 로드 하는 코드가 추가되어야 함\n",
    "6) 간단한 검색엔진 코딩 (Like Google!!!)\n",
    "사용자에게 임의의 검색어 (하나 또는 여러 단어로 구성) 를 입력받으시오.\n",
    "예:\n",
    "대한민국\n",
    "컴퓨터 공학\n",
    "맛있는 음식\n",
    "파이썬\n",
    "한기대 장점\n",
    "입력받은 검색어들에 대해서도 1)에서 제시하는 방법처럼 불용어 처리를 하여 정리\n",
    "입력 받은 검색어와 유사도(Similarity)가 높은 웹 사이트 기준으로 위 4)에서 미리 지정해 놓은 5개 이상의 웹 사이트 URL들을 일렬로 나열하여 출력하시오.\n",
    "검색어와 웹 사이트 간의 유사도는 본인이 스스로 정하시오.\n",
    "유사도를 정하는 최소한의 기준은 단어 출현 빈도를 기반으로 해야 하며, 이외의 본인이 생각하는 방안이 있으면 함께 사용해도 됨.\n",
    "유사도가 높은 웹 사이트가 상위에 출력되어야 함 (즉, 유사도 기준 내림 차순)\n",
    "유사도가 동일한 웹 사이트들에 대해서는 임의 배치함.\n",
    "7) [주의] 필수사항\n",
    "위에서 만든 검색엔진 코딩은 매우 간단한 것이라 부족한 점이 많이 존재한다.\n",
    "본인이 생각하기에 상업적인 완성도 높은 검색 로봇/엔진이 되려면 어떤 기능들이 추가적으로 구현되어야 할지 최소 1가지 이상 제시하시오."
   ]
  },
  {
   "cell_type": "code",
   "execution_count": 1,
   "id": "0bbaf92d",
   "metadata": {},
   "outputs": [
    {
     "name": "stdout",
     "output_type": "stream",
     "text": [
      "{'닫기': 1, 'Link': 1, 'Service': 1, '재학생': 2, '학생이': 4, '행복한': 4, '대학': 9, '한국기술교육대학교': 11, '온라인교육지원': 2, '생활관': 5, '원격지원': 2, '오늘의': 2, '식단': 2, '시설보수신청': 1, '학사종합시스템': 1, '인터넷증명발급': 2, '동아리안내': 2, '입학정보': 4, '코리아텍의': 4, '입학정보를': 4, '제공합니다': 8, '취업정보': 4, '최신': 4, '취업관련': 4, '정보를': 4, '예비대학생': 3, '입학안내': 3, '학부소개': 2, '언론기사': 2, '홍보영상물': 2, '장학제도': 2, '전화번호찾기': 2, '찾아오시는길': 3, '교직원': 2, '아우누리': 1, '무선랜신청': 1, '교육장비검색': 1, '일반인': 3, '코리아텍소개': 1, 'VISION2020': 2, 'PLUS': 2, '대학원소개': 1, '캠퍼스투어': 1, '코리아텍': 1, '특장점': 1, '자세히': 2, '보기': 2, '중앙일보대학평가‘교육중심대학’': 2, '1위': 6, '코리아텍은': 2, '중앙일보대학평가': 2, '11년': 2, '연속으로': 2, '“교육중심대학': 2, '1위”': 2, '의': 2, '성과를': 2, '이루었습니다': 2, '스킵네비게이션': 1, '주메뉴바로가기': 1, '2022': 1, '수시': 1, '학생부': 1, '종합전형': 1, '합격자발표': 1, '팝업존': 3, '정지': 1, '재생': 1, '1': 1, '오늘': 1, '하루': 1, '보지': 1, '않기': 1, '팝업닫기': 1, '명칭': 1, 'whome': 1, '대표홈': 1, 'home': 1, '홈': 1, 'join': 1, '회원가입': 1, 'login': 1, '로그인': 1, 'my': 1, '마이페이지': 1, 'logout': 1, '로그아웃': 1, 'contact': 1, 'Contact': 1, 'Us': 1, 'link1': 1, '링크1': 1, 'link2': 1, '링크2': 1, 'link3': 1, '링크3': 1, 'link4': 1, '링크4': 1, 'link5': 1, '링크5': 1, 'langE': 1, '언어영': 1, 'langC': 1, '언어중': 1, 'langJ': 1, '언어일': 1, 'langK': 1, '언어한': 1, 'search': 1, '검색': 1, 'amenu': 1, '사이트맵': 1, '웹메일': 1, '부패행위신고': 1, 'ENG': 2, '팝업': 1, '1건': 1, '전체메뉴열기': 1, '전체메뉴닫기': 1, '대학소개': 1, 'KOREATECH소개': 1, '교육목표': 1, '및': 3, '인재상': 1, '대학특성': 1, 'KOREATECH': 8, '심볼': 1, '교가': 1, '캠퍼스': 1, '안내': 4, '통학셔틀버스안내': 1, 'KOREATECH20년': 1, '총장실': 1, '총장인사말': 1, '총장프로필': 1, '총장동정': 1, '열린총장실': 1, '역대총장': 1, '대학현황': 1, '대학요람': 1, '규정집': 1, '연혁': 1, '재정현황': 1, '시설현황': 1, '재학생현황': 1, '대학조직': 1, '조직구성': 1, '전화번호검색': 1, '국제교류': 1, '국제교류현황': 1, '국제협력프로그램': 1, '발전기금': 1, '모금캠페인': 1, '참여하기': 1, '기부자예우': 1, '발전기금소식': 1, '후원커뮤니티': 1, '부패행위': 2, '신고': 2, '익명신고': 1, '청렴게시판': 1, '청렴자료실': 1, '청탁금지법': 2, 'QA': 2, '국민권익위': 1, '안전보건경영': 1, '비전': 1, '추진체계': 1, '안전보건방침': 1, '선포식': 1, '안전': 2, '게시판': 2, '감염병': 1, '자료실': 1, '신문고': 1, '안전보건관계법령': 1, '대학원': 2, '입시요강': 1, '전년도': 1, '결과확인': 1, '모의성적계산': 1, '대학대학원': 1, '기계공학부': 1, '메카트로닉스공학부': 2, '전기전자통신공학부': 1, '컴퓨터공학부': 2, '디자인건축공학부': 1, '에너지신소재화학공학부': 1, '산업경영학부': 2, '고용서비스정책학과': 1, '교양학부': 1, 'HRD학과': 2, '융합학과': 2, '일학습병행대학': 1, '대학생활': 1, '학사안내': 1, '학사일정': 2, '학적': 1, '변동': 1, '교과과정': 1, '특수교과': 1, '수강신청': 1, '졸업': 1, '졸업작품': 1, '해외연수': 1, '교환학생안내': 1, '어학연수안내': 1, '교내장학금': 1, '교외장학금': 1, '캠퍼스생활': 1, '은행업무': 1, '증명서발급': 1, '학생증발급': 1, '도서관이용안내': 1, '모바일화폐페이코사용안내': 1, '보건실안내': 1, '소프트웨어사용안내': 1, '무선랜사용신청': 1, '병사안내': 1, '병무안내': 1, '직장예비군안내': 1, '민방위안내': 1, '병무안내관련사이트': 1, '커뮤니티': 1, '공지사항': 4, '일반공지': 1, '장학공지': 1, '학사공지': 1, '채용공지': 1, '코로나19관련공지': 1, '학부모님': 1, '의견란': 1, '고객만족경영': 1, '고객만족경영체계': 1, '고객의': 1, '소리제안': 1, 'VOC': 1, '개선사항': 1, '정보공개': 2, '정보공개제도안내': 1, '정보공개업무편람': 1, '정보공개이의신청': 1, '사전정보공표목록': 1, '인터넷정보공개청구': 1, '행정정보소재': 1, '공공데이터': 1, '공공데이터개방': 1, '데이터의견수렴오류신고': 1, '행정공시': 1, '학교법인임원공시': 1, '구매입찰': 1, '회계공시': 1, '경영공시': 1, '대학알리미': 1, 'ALIO경영공시': 1, '대학혁신지원사업': 2, '사업실명제': 1, '민간투자사업': 1, '개교': 5, '30주년': 6, '사업소개': 1, '위원장': 1, '인사말': 1, '기념사업': 1, '개요': 1, '엠블럼': 1, '30년': 2, '발자취': 1, '함께하는': 1, '사업소식': 1, '자료': 1, '기증': 1, 'Story': 1, 'NEWS': 1, '대학홍보영상': 1, '홍보관련영상': 1, '언론보도영상': 1, '홍보대사': 1, \"'나래'\": 1, '대학소식지': 1, '대학캠퍼스투어': 1, '홍보브로셔': 1, '학부모': 1, '초청의': 1, '날': 1, '행사참여안내': 1, '행사참여신청': 1, '포토갤러리': 2, 'CoverStory': 1, '홍보소재제안': 1, '전체메뉴보기': 1, '대한민국': 1, '기술리더': 1, '25': 2, 'Nov': 5, 'COVER': 6, 'STORY': 6, \"'2021\": 1, '일학습병행': 2, 'OJT': 1, 'Forum': 1, \"개최'\": 1, '우리': 2, '한국기술교육대학교에서는': 1, 'OJT의': 1, '질적향상과': 1, '발전방안을': 1, '모색하고자': 1, '현장훈련의': 1, '과거': 1, '현재': 1, '미래를': 1, '주제로': 1, 'OJT포럼을': 1, '개최합니다': 1, '아울러': 1, 'OJT경진대회와': 1, '구인기업과': 1, '22': 1, \"'IT\": 1, '발전과': 2, '고용서비스의': 2, \"미래'\": 1, '토론회': 1, '개최': 2, '한기대한고원': 1, '공동': 1, '주관으로': 1, 'IT': 1, '미래': 1, '토론회를': 1, '하오니': 1, '관심있는': 1, '분들의': 1, '많은': 1, '참여': 1, '부탁드립니다': 1, '※': 1, '발표': 1, '주제': 1, '등': 2, '자세한': 1, '내용은': 1, '홈페이지': 1, '공지사항을': 1, '08': 3, '한경': 1, '리크루트': 1, '총장님': 1, '인터뷰': 1, '1991년': 1, '정부가': 1, '설립하여': 1, '올해': 1, '30주년을': 2, '맞이한': 1, '한국기술교육대학교이하': 1, 'wwwkoreatechackr는짧은': 1, '역사에도': 1, '불구하고': 1, '학생을': 1, '잘': 1, '가르치는': 1, '한기대취업률': 1, '1위전국': 1, '최고': 1, '수준의': 1, '공학교육': 1, '모델': 1, '만들었다': 1, '작년': 1, '취업률': 3, '847%': 2, '전국': 3, '미래교육': 1, '인재양성': 1, '기관': 1, '자리매김': 1, '2012년': 1, '기업연계형': 1, 'IPP': 1, '확산': 1, '4차산업': 1, '교육과정': 1, '개편': 1, '직업능력개발': 1, '포스트': 2, '코로나': 2, '시대미래기술': 1, '전시회': 1, '열려': 1, '위드코로나가': 1, '시작되면서': 1, '코로나19': 1, '시대를': 1, '알리는': 1, '과학기술분야': 1, '혁신기술이': 1, '서서히': 1, '곁으로': 1, '다가오고': 1, '있는데요': 1, '천안': 1, '한국기술교육대에서': 1, '이후': 1, '앞으로': 1, '실생활에': 1, '변화': 1, 'Oct': 1, '사진으로': 1, '보는': 2, '맞이하여': 1, '그': 1, '동안의': 1, '역사를': 1, '사진을': 1, '통해': 1, '살펴봅니다': 1, '취창업지원팀': 1, '\"우리': 1, '학교': 1, '굿즈': 2, '우리가': 1, '만들자!\"': 1, '교내': 1, '기념': 1, '창업': 1, '아이템': 1, '공모전': 1, '결과': 1, '1126': 1, '20211126': 4, '1캠': 2, '온라인': 1, '인권성평등': 1, '교육': 1, '이수': 1, '요청': 1, '\\ufeff2021동계방학': 1, '생활관생': 1, '모집': 1, '계획': 1, '안내모집기간': 1, '1130125': 1, '학생지원팀': 1, '12월': 1, '체육관': 1, '단기근장': 1, '추가모집': 1, '선착순': 1, '더보기': 3, '포토갤러리더보기': 1, '재생정지': 1, '숫자로': 1, '4년제': 1, '출처': 3, '대학정보공시': 3, '졸업생': 1, '500명': 1, '이상': 1, '중앙일보': 2, '대학평가': 1, '교육중심대학11년연속': 1, '‘19년': 1, '평가': 1, '3296천원': 1, '장학금': 1, '수령액': 1, '2020년': 1, '기준': 1, 'Statistics': 1, '분포현황': 1, '자주찾는': 1, '서비스': 1, '온라인교육': 1, '학과안내': 1, 'SNS': 1, '페이스북': 1, 'FaceBook': 1, '20211020': 1, 'Blog': 1, 'KOREATECH한국기술교육대학교': 1, 'Wings': 1, 'Magazine': 1, '2021년': 1, '11월호': 2, '20211115': 2, 'Instgram': 1, 'Wings_Magazine': 1, 'Youtube': 1, '제': 1, '6회': 1, '교육콘서트': 1, '한국기술교육대': 1, '위드': 1, '코로나!': 1, '20211117': 1, '네이버블로그': 1, '인스타그램': 1, '유튜브': 1, '건축공학전공': 1, '일반대학원': 1, 'IT융합과학경영대학원': 1, '학사종합서비스': 1, '웹갤러리': 1, '청년워크넷': 1, '잡코리아': 1, '인크루트': 1, '온라인평생교육원': 1, '다산정보관': 1, 'LINC사업단': 1, '상담진로개발센터': 1, 'IPP포털': 1, '다담창의센터': 1, '창업지원센터': 1, '대학혁신사업단': 1, '도제허브사업단': 1, '코리아텍방송국': 1, '산업통상자원부': 1, '한국산업인력공단': 1, '한국교육개발원': 1, '한국고용노동교육원': 1, '한국산업안전보건공단': 1, '한국직업능력개발원': 1, '충청남도청': 1, '국민권익위원회': 1, 'NTIS': 1, '서비스메뉴': 1, '이메일무단수집거부': 1, '행정서비스헌장': 1, '도로명주소안내': 1, '좌측내용': 1, '우측내용': 1, 'TEL': 1, '0415601114': 1, 'FAX': 1, '02': 1, 'EMAIL': 1, 'interkoreatechackr': 1, 'Copyright': 1, 'ⓒ': 1, '2019': 1, 'All': 1, 'right': 1, 'reserved': 1}\n",
      "html =  545\n"
     ]
    }
   ],
   "source": [
    "import urllib.request\n",
    "import re\n",
    "\n",
    "path = 'https://www.koreatech.ac.kr'\n",
    "\n",
    "\n",
    "with urllib.request.urlopen(path) as response:\n",
    "\thtml = response.read().decode(\"utf-8\")\n",
    "\n",
    "body = re.search('<body.*</body>', html, re.I | re.S)\n",
    "\n",
    "body = body.group()\n",
    "body = re.sub('<a href.*?>.*?\">', '', body, 0, re.I | re.S)\n",
    "body = re.sub('<script.*?>.*?</script>', '', body, 0, re.I | re.S)\n",
    "body = re.sub('<style.*?>.*?</style>', '', body, 0, re.I | re.S)\n",
    "body = re.sub('<.*?>', '', body, 0, re.I | re.S)\n",
    "\n",
    "body = re.sub('[->/@+&#·:(){}→.;,~=?+]', '', body, 0, re.I | re.S)\n",
    "body = re.sub('&nbsp;|\\t|\\r|\\\\|', '', body)\n",
    "body = body.replace(\"[\", \"\")\n",
    "body = body.replace(\"]\", \"\")\n",
    "\n",
    "splitstring = body.split()\n",
    "new_list = {}\n",
    "for i in splitstring:\n",
    "    try:\n",
    "        new_list[i] += 1\n",
    "    except:\n",
    "        new_list[i] = 1\n",
    "print(new_list)\n",
    "print('html = ', len(new_list))\n",
    "\n",
    "\n",
    "\n",
    "\n"
   ]
  }
 ],
 "metadata": {
  "kernelspec": {
   "display_name": "Python 3",
   "language": "python",
   "name": "python3"
  },
  "language_info": {
   "codemirror_mode": {
    "name": "ipython",
    "version": 3
   },
   "file_extension": ".py",
   "mimetype": "text/x-python",
   "name": "python",
   "nbconvert_exporter": "python",
   "pygments_lexer": "ipython3",
   "version": "3.8.8"
  }
 },
 "nbformat": 4,
 "nbformat_minor": 5
}
